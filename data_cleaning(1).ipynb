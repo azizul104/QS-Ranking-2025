{
  "nbformat": 4,
  "nbformat_minor": 0,
  "metadata": {
    "colab": {
      "provenance": []
    },
    "kernelspec": {
      "name": "python3",
      "display_name": "Python 3"
    },
    "language_info": {
      "name": "python"
    }
  },
  "cells": [
    {
      "cell_type": "code",
      "execution_count": null,
      "metadata": {
        "colab": {
          "base_uri": "https://localhost:8080/"
        },
        "id": "IYGfMNrnmdBP",
        "outputId": "718c7d31-28fb-4f92-d4df-88183d9f147a"
      },
      "outputs": [
        {
          "output_type": "stream",
          "name": "stdout",
          "text": [
            "Drive already mounted at /content/drive; to attempt to forcibly remount, call drive.mount(\"/content/drive\", force_remount=True).\n"
          ]
        }
      ],
      "source": [
        "\n",
        "from google.colab import drive\n",
        "drive.mount('/content/drive')"
      ]
    },
    {
      "cell_type": "code",
      "source": [
        "import pandas as pd\n",
        "\n",
        "df = pd.read_csv('/content/drive/MyDrive/qs_university_ranking_2025_1.csv')\n",
        "print(df.head())\n",
        "\n"
      ],
      "metadata": {
        "colab": {
          "base_uri": "https://localhost:8080/"
        },
        "id": "Yt84uoL5nfNF",
        "outputId": "b1cf9a90-4818-4ed8-c8d9-e246f7341aa1"
      },
      "execution_count": null,
      "outputs": [
        {
          "output_type": "stream",
          "name": "stdout",
          "text": [
            "                                    University         Country Rank  \\\n",
            "0  Massachusetts Institute of Technology (MIT)   United States    1   \n",
            "1                      Imperial College London  United Kingdom    2   \n",
            "2                         University of Oxford  United Kingdom    3   \n",
            "3                           Harvard University   United States    4   \n",
            "4                      University of Cambridge  United Kingdom    5   \n",
            "\n",
            "   Overall Score  Academic Reputation  Citations per Faculty  \\\n",
            "0          100.0                100.0                  100.0   \n",
            "1           98.5                 98.5                   93.9   \n",
            "2           96.9                100.0                   84.8   \n",
            "3           96.8                100.0                  100.0   \n",
            "4           96.7                100.0                   84.6   \n",
            "\n",
            "   Faculty Student Ratio  Employer Reputation  Employment Outcomes  \\\n",
            "0                  100.0                100.0                100.0   \n",
            "1                   98.2                 99.5                 93.4   \n",
            "2                  100.0                100.0                100.0   \n",
            "3                   96.3                100.0                100.0   \n",
            "4                  100.0                100.0                100.0   \n",
            "\n",
            "   International Student Ratio  International Research Network  \\\n",
            "0                         86.8                            96.0   \n",
            "1                         99.6                            97.4   \n",
            "2                         97.7                           100.0   \n",
            "3                         69.0                            99.6   \n",
            "4                         94.8                            99.3   \n",
            "\n",
            "   International Faculty Ratio  Sustainability Score  \n",
            "0                         99.3                  99.0  \n",
            "1                        100.0                  99.7  \n",
            "2                         98.1                  85.0  \n",
            "3                         74.1                  84.4  \n",
            "4                        100.0                  84.8  \n"
          ]
        }
      ]
    },
    {
      "cell_type": "code",
      "source": [
        "print(df.isnull().sum())\n"
      ],
      "metadata": {
        "colab": {
          "base_uri": "https://localhost:8080/"
        },
        "id": "35AaJsA5oh1K",
        "outputId": "4f35e8af-4f2b-4845-d10d-c01f11525438"
      },
      "execution_count": null,
      "outputs": [
        {
          "output_type": "stream",
          "name": "stdout",
          "text": [
            "University                        0\n",
            "Country                           0\n",
            "Rank                              0\n",
            "Overall Score                     0\n",
            "Academic Reputation               0\n",
            "Citations per Faculty             0\n",
            "Faculty Student Ratio             0\n",
            "Employer Reputation               0\n",
            "Employment Outcomes               0\n",
            "International Student Ratio       2\n",
            "International Research Network    0\n",
            "International Faculty Ratio       6\n",
            "Sustainability Score              0\n",
            "dtype: int64\n"
          ]
        }
      ]
    },
    {
      "cell_type": "code",
      "source": [
        "df.dropna(inplace=True)\n",
        "print(df.isnull().sum())\n",
        "print(df.head())\n"
      ],
      "metadata": {
        "colab": {
          "base_uri": "https://localhost:8080/"
        },
        "id": "NUcDelAZoqEJ",
        "outputId": "b25fd7ca-42ec-4277-a9b6-f090b8c2d690"
      },
      "execution_count": null,
      "outputs": [
        {
          "output_type": "stream",
          "name": "stdout",
          "text": [
            "University                        0\n",
            "Country                           0\n",
            "Rank                              0\n",
            "Overall Score                     0\n",
            "Academic Reputation               0\n",
            "Citations per Faculty             0\n",
            "Faculty Student Ratio             0\n",
            "Employer Reputation               0\n",
            "Employment Outcomes               0\n",
            "International Student Ratio       0\n",
            "International Research Network    0\n",
            "International Faculty Ratio       0\n",
            "Sustainability Score              0\n",
            "dtype: int64\n",
            "                                    University         Country Rank  \\\n",
            "0  Massachusetts Institute of Technology (MIT)   United States    1   \n",
            "1                      Imperial College London  United Kingdom    2   \n",
            "2                         University of Oxford  United Kingdom    3   \n",
            "3                           Harvard University   United States    4   \n",
            "4                      University of Cambridge  United Kingdom    5   \n",
            "\n",
            "   Overall Score  Academic Reputation  Citations per Faculty  \\\n",
            "0          100.0                100.0                  100.0   \n",
            "1           98.5                 98.5                   93.9   \n",
            "2           96.9                100.0                   84.8   \n",
            "3           96.8                100.0                  100.0   \n",
            "4           96.7                100.0                   84.6   \n",
            "\n",
            "   Faculty Student Ratio  Employer Reputation  Employment Outcomes  \\\n",
            "0                  100.0                100.0                100.0   \n",
            "1                   98.2                 99.5                 93.4   \n",
            "2                  100.0                100.0                100.0   \n",
            "3                   96.3                100.0                100.0   \n",
            "4                  100.0                100.0                100.0   \n",
            "\n",
            "   International Student Ratio  International Research Network  \\\n",
            "0                         86.8                            96.0   \n",
            "1                         99.6                            97.4   \n",
            "2                         97.7                           100.0   \n",
            "3                         69.0                            99.6   \n",
            "4                         94.8                            99.3   \n",
            "\n",
            "   International Faculty Ratio  Sustainability Score  \n",
            "0                         99.3                  99.0  \n",
            "1                        100.0                  99.7  \n",
            "2                         98.1                  85.0  \n",
            "3                         74.1                  84.4  \n",
            "4                        100.0                  84.8  \n"
          ]
        }
      ]
    },
    {
      "cell_type": "code",
      "source": [
        "\n",
        "duplicate_universities = df[df.duplicated(subset=['University'], keep=False)]\n",
        "\n",
        "if not duplicate_universities.empty:\n",
        "    # Keep only the first occurrence of each duplicate university\n",
        "    df.drop_duplicates(subset=['University'], keep='first', inplace=True)\n",
        "    print(\"Duplicate university names found and removed. Only the first occurrence of each duplicate is kept.\")\n",
        "else:\n",
        "    print(\"No duplicate university names found.\")\n",
        "\n",
        "\n",
        "print(df.head())\n",
        "\n"
      ],
      "metadata": {
        "colab": {
          "base_uri": "https://localhost:8080/"
        },
        "id": "fdYZ0JZLo4v7",
        "outputId": "393cae65-83a5-465f-afcf-cf77b54dc18a"
      },
      "execution_count": null,
      "outputs": [
        {
          "output_type": "stream",
          "name": "stdout",
          "text": [
            "Duplicate university names found and removed. Only the first occurrence of each duplicate is kept.\n",
            "                                    University         Country Rank  \\\n",
            "0  Massachusetts Institute of Technology (MIT)   United States    1   \n",
            "1                      Imperial College London  United Kingdom    2   \n",
            "2                         University of Oxford  United Kingdom    3   \n",
            "3                           Harvard University   United States    4   \n",
            "4                      University of Cambridge  United Kingdom    5   \n",
            "\n",
            "   Overall Score  Academic Reputation  Citations per Faculty  \\\n",
            "0          100.0                100.0                  100.0   \n",
            "1           98.5                 98.5                   93.9   \n",
            "2           96.9                100.0                   84.8   \n",
            "3           96.8                100.0                  100.0   \n",
            "4           96.7                100.0                   84.6   \n",
            "\n",
            "   Faculty Student Ratio  Employer Reputation  Employment Outcomes  \\\n",
            "0                  100.0                100.0                100.0   \n",
            "1                   98.2                 99.5                 93.4   \n",
            "2                  100.0                100.0                100.0   \n",
            "3                   96.3                100.0                100.0   \n",
            "4                  100.0                100.0                100.0   \n",
            "\n",
            "   International Student Ratio  International Research Network  \\\n",
            "0                         86.8                            96.0   \n",
            "1                         99.6                            97.4   \n",
            "2                         97.7                           100.0   \n",
            "3                         69.0                            99.6   \n",
            "4                         94.8                            99.3   \n",
            "\n",
            "   International Faculty Ratio  Sustainability Score  \n",
            "0                         99.3                  99.0  \n",
            "1                        100.0                  99.7  \n",
            "2                         98.1                  85.0  \n",
            "3                         74.1                  84.4  \n",
            "4                        100.0                  84.8  \n"
          ]
        }
      ]
    },
    {
      "cell_type": "code",
      "source": [
        "\n",
        "\n",
        "\n",
        "df.to_csv('/content/drive/MyDrive/qs_university_ranking_2025_1.csv', index=False)\n"
      ],
      "metadata": {
        "id": "Oz7UbmFgb0Am"
      },
      "execution_count": null,
      "outputs": []
    },
    {
      "cell_type": "code",
      "source": [],
      "metadata": {
        "id": "EdBlRP7hcQvB"
      },
      "execution_count": null,
      "outputs": []
    }
  ]
}